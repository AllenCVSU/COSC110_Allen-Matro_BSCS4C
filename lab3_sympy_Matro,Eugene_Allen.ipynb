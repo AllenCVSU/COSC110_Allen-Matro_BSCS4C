{
  "nbformat": 4,
  "nbformat_minor": 0,
  "metadata": {
    "colab": {
      "provenance": [],
      "toc_visible": true,
      "include_colab_link": true
    },
    "kernelspec": {
      "name": "python3",
      "display_name": "Python 3"
    },
    "language_info": {
      "name": "python"
    }
  },
  "cells": [
    {
      "cell_type": "markdown",
      "metadata": {
        "id": "view-in-github",
        "colab_type": "text"
      },
      "source": [
        "<a href=\"https://colab.research.google.com/github/AllenCVSU/COSC110_Allen-Matro_BSCS4C/blob/main/lab3_sympy_Matro%2CEugene_Allen.ipynb\" target=\"_parent\"><img src=\"https://colab.research.google.com/assets/colab-badge.svg\" alt=\"Open In Colab\"/></a>"
      ]
    },
    {
      "cell_type": "markdown",
      "source": [
        "## Laboratory Activity #3: Introduction to SymPy\n",
        "\n",
        "###Objectives:\n",
        "- Apply basic symbolic calculations using SymPy"
      ],
      "metadata": {
        "id": "ry6k4qR8H7Bq"
      }
    },
    {
      "cell_type": "markdown",
      "source": [
        "#### Task # 1: Include all necessary sympy modules\n",
        "\n",
        "\n"
      ],
      "metadata": {
        "id": "G_Ua0LKbIPfK"
      }
    },
    {
      "cell_type": "code",
      "execution_count": null,
      "metadata": {
        "id": "DPFz-qLYHiFJ"
      },
      "outputs": [],
      "source": [
        "# Import the relevant sympy modules\n",
        "from sympy import *"
      ]
    },
    {
      "cell_type": "markdown",
      "source": [
        "#### Task # 2: Basic calculation\n",
        "Solve for the following:\n",
        "\n",
        "- $\\frac{5}{3} + \\frac{\\sqrt{10}}{2}$\n",
        "- $\\sqrt{50} \\times \\sqrt{\\frac{5}{9}}$"
      ],
      "metadata": {
        "id": "3i4pd__LIl1X"
      }
    },
    {
      "cell_type": "code",
      "source": [
        "# Answer for the first expression here\n",
        "result1 = Rational(5, 3) + sqrt(10)/2\n",
        "decimal_result1 = result1.evalf()  # for decimals\n",
        "print(\"Result of (5/3) + (sqrt(10)/2):\", decimal_result1, \"\\nor\")\n",
        "pprint(result1) # to print in mathematical format"
      ],
      "metadata": {
        "id": "Nk9U7XU8RhEH",
        "colab": {
          "base_uri": "https://localhost:8080/"
        },
        "outputId": "8a25b1d6-81e3-4386-c148-a6753620b2b4"
      },
      "execution_count": null,
      "outputs": [
        {
          "output_type": "stream",
          "name": "stdout",
          "text": [
            "Result of (5/3) + (sqrt(10)/2): 3.24780549675086 \n",
            "or\n",
            "√10   5\n",
            "─── + ─\n",
            " 2    3\n"
          ]
        }
      ]
    },
    {
      "cell_type": "code",
      "source": [
        "# Answer for the second expression here\n",
        "result2 = sqrt(50) * sqrt(Rational(5, 9))\n",
        "decimal_result2 = result2.evalf()  # for decimals\n",
        "print(\"Result of sqrt(50) * sqrt(5/9):\", decimal_result2, \"\\nor\")\n",
        "pprint(result2) # to print in mathematical format"
      ],
      "metadata": {
        "id": "6baME6J6Rgru",
        "colab": {
          "base_uri": "https://localhost:8080/"
        },
        "outputId": "9db4b098-8b19-416b-dfc8-c58b7cd0bed3"
      },
      "execution_count": null,
      "outputs": [
        {
          "output_type": "stream",
          "name": "stdout",
          "text": [
            "Result of sqrt(50) * sqrt(5/9): 5.27046276694730 \n",
            "or\n",
            "5⋅√10\n",
            "─────\n",
            "  3  \n"
          ]
        }
      ]
    },
    {
      "cell_type": "markdown",
      "source": [
        "#### Task # 3: Symbols\n",
        "Create the equation for the following using `Symbols`:\n",
        "- $2x+3y=12$\n",
        "- $x−y=4$"
      ],
      "metadata": {
        "id": "UH2m4ur7NERn"
      }
    },
    {
      "cell_type": "code",
      "source": [
        "# define symbols\n",
        "x, y = symbols('x y')"
      ],
      "metadata": {
        "id": "7zzzPb9TAnFC"
      },
      "execution_count": null,
      "outputs": []
    },
    {
      "cell_type": "code",
      "source": [
        "# Answer for the first equation here\n",
        "eq1 = Eq(2*x + 3*y, 12)\n",
        "print(\"Equation 1:\")\n",
        "pprint(eq1)"
      ],
      "metadata": {
        "id": "4RUw45azRejM",
        "colab": {
          "base_uri": "https://localhost:8080/"
        },
        "outputId": "5c169ca2-b944-41a3-e9cc-0b8bbfbce81f"
      },
      "execution_count": null,
      "outputs": [
        {
          "output_type": "stream",
          "name": "stdout",
          "text": [
            "Equation 1:\n",
            "2⋅x + 3⋅y = 12\n"
          ]
        }
      ]
    },
    {
      "cell_type": "code",
      "source": [
        "# Answer for the second equation here\n",
        "eq2 = Eq(x - y, 4)\n",
        "print(\"Equation 2:\")\n",
        "pprint(eq2)"
      ],
      "metadata": {
        "id": "nKlN5AeURwI6",
        "colab": {
          "base_uri": "https://localhost:8080/"
        },
        "outputId": "6cd936dd-a9fe-4b91-b1d0-107b9bd57443"
      },
      "execution_count": null,
      "outputs": [
        {
          "output_type": "stream",
          "name": "stdout",
          "text": [
            "Equation 2:\n",
            "x - y = 4\n"
          ]
        }
      ]
    },
    {
      "cell_type": "markdown",
      "source": [
        "#### Task # 4: Simplification\n",
        "Simplify the following equations using the `simplify` method\n",
        "\n",
        "- $\\frac{x^2 + 2x + 1}{x + 1}$\n",
        "\n",
        "- $\\frac{1 - \\frac{1}{1 + \\frac{1}{x}}}{1 + \\frac{1}{x}}\n",
        "$"
      ],
      "metadata": {
        "id": "IS8vTb7FPDbQ"
      }
    },
    {
      "cell_type": "code",
      "source": [
        "# define symbols\n",
        "x = symbols('x')"
      ],
      "metadata": {
        "id": "dEsQonHsCnXn"
      },
      "execution_count": null,
      "outputs": []
    },
    {
      "cell_type": "code",
      "source": [
        "# Simplify the first equation here\n",
        "expr1 = (x**2 + 2*x + 1) / (x + 1)\n",
        "simplified_expr1 = simplify(expr1)\n",
        "print(\"Simplified Expression 1:\")\n",
        "print(simplified_expr1)"
      ],
      "metadata": {
        "id": "38CFQlfxR0TV",
        "colab": {
          "base_uri": "https://localhost:8080/"
        },
        "outputId": "01df1afe-5439-4717-95db-ad838dd4de02"
      },
      "execution_count": null,
      "outputs": [
        {
          "output_type": "stream",
          "name": "stdout",
          "text": [
            "Simplified Expression 1:\n",
            "x + 1\n"
          ]
        }
      ]
    },
    {
      "cell_type": "code",
      "source": [
        "# Simplify the second equation here\n",
        "expr2 = (1 - (1 / (1 + (1 / x)))) / (1 + (1 / x))\n",
        "simplified_expr2 = simplify(expr2)\n",
        "print(\"Simplified Expression 2:\")\n",
        "pprint(simplified_expr2) # to print in mathematical format"
      ],
      "metadata": {
        "id": "fSi0XQcWR2uo",
        "colab": {
          "base_uri": "https://localhost:8080/"
        },
        "outputId": "f4cd075f-eac2-43c5-c42a-38ae4625e12e"
      },
      "execution_count": null,
      "outputs": [
        {
          "output_type": "stream",
          "name": "stdout",
          "text": [
            "Simplified Expression 2:\n",
            "   x    \n",
            "────────\n",
            "       2\n",
            "(x + 1) \n"
          ]
        }
      ]
    },
    {
      "cell_type": "markdown",
      "source": [
        "### Task # 5: Expansion\n",
        "Expand the following expressions using the `expand` method\n",
        "- $(2x + 2)^2$\n",
        "- $(2x + y)(x - 2y)$\n"
      ],
      "metadata": {
        "id": "oXI_LJ-hRR_n"
      }
    },
    {
      "cell_type": "code",
      "source": [
        "# define symbols\n",
        "x, y = symbols('x y')"
      ],
      "metadata": {
        "id": "qFV5luh0EeDl"
      },
      "execution_count": null,
      "outputs": []
    },
    {
      "cell_type": "code",
      "source": [
        "# Expand the first equation here\n",
        "expr1 = (2*x + 2)**2\n",
        "expanded_expr1 = expand(expr1)\n",
        "print(\"Expanded Expression 1:\")\n",
        "pprint(expanded_expr1) # to print in mathematical format"
      ],
      "metadata": {
        "id": "OwjWp39uS0Jb",
        "colab": {
          "base_uri": "https://localhost:8080/"
        },
        "outputId": "c2e9b6db-f128-4b0e-f0ef-ca9aed8cbfd1"
      },
      "execution_count": null,
      "outputs": [
        {
          "output_type": "stream",
          "name": "stdout",
          "text": [
            "Expanded Expression 1:\n",
            "   2          \n",
            "4⋅x  + 8⋅x + 4\n"
          ]
        }
      ]
    },
    {
      "cell_type": "code",
      "source": [
        "# Expand the second equation here\n",
        "expr2 = (2*x + y)*(x - 2*y)\n",
        "expanded_expr2 = expand(expr2)\n",
        "print(\"\\nExpanded Expression 2:\")\n",
        "pprint(expanded_expr2) # to print in mathematical format"
      ],
      "metadata": {
        "id": "g-QEmoMCS6TH",
        "colab": {
          "base_uri": "https://localhost:8080/"
        },
        "outputId": "765ded0d-91d2-4240-e65d-a6e9bafd8ad5"
      },
      "execution_count": null,
      "outputs": [
        {
          "output_type": "stream",
          "name": "stdout",
          "text": [
            "\n",
            "Expanded Expression 2:\n",
            "   2              2\n",
            "2⋅x  - 3⋅x⋅y - 2⋅y \n"
          ]
        }
      ]
    }
  ]
}